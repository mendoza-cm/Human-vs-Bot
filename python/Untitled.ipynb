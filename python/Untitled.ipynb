{
 "cells": [
  {
   "cell_type": "code",
   "execution_count": 1,
   "id": "a91645be-bf32-4067-8469-d06be567713f",
   "metadata": {},
   "outputs": [],
   "source": [
    "import matplotlib.pyplot as plt\n",
    "import numpy as np \n",
    "import rdata\n",
    "# from matplotlib import pyplot as plt\n",
    "from sklearn.linear_model import LogisticRegression\n",
    "from sklearn.metrics import accuracy_score, classification_report, confusion_matrix"
   ]
  },
  {
   "cell_type": "code",
   "execution_count": 2,
   "id": "be953899-92a8-42cb-ad8e-0cda20798043",
   "metadata": {},
   "outputs": [
    {
     "name": "stderr",
     "output_type": "stream",
     "text": [
      "C:\\Users\\Christina\\AppData\\Local\\Programs\\Python\\Python311\\Lib\\site-packages\\rdata\\conversion\\_conversion.py:856: UserWarning: Missing constructor for R class \"POSIXct\". The constructor for class \"POSIXt\" will be used instead.\n",
      "  warnings.warn(\n",
      "C:\\Users\\Christina\\AppData\\Local\\Programs\\Python\\Python311\\Lib\\site-packages\\rdata\\conversion\\_conversion.py:856: UserWarning: Missing constructor for R class \"POSIXt\". The underlying R object is returned instead.\n",
      "  warnings.warn(\n"
     ]
    },
    {
     "name": "stdout",
     "output_type": "stream",
     "text": [
      "dict_keys(['data', 'data_for_modeling', 'training_data', 'test_data'])\n"
     ]
    }
   ],
   "source": [
    "parsed = rdata.parser.parse_file(\"D:\\git\\myGit_py\\Human-vs-Bot\\data\\human_vs_bot_data.RData\")\n",
    "converted = rdata.conversion.convert(parsed)\n",
    "print(converted.keys())"
   ]
  },
  {
   "cell_type": "code",
   "execution_count": null,
   "id": "62bf552b-1739-4b6b-ae45-49bbcca40735",
   "metadata": {},
   "outputs": [],
   "source": [
    "training_dat = converted[\"training_data\"]"
   ]
  },
  {
   "cell_type": "code",
   "execution_count": null,
   "id": "fa857248-69ef-4e12-b3fd-fa2246471ce3",
   "metadata": {},
   "outputs": [],
   "source": [
    "# Plot settings\n",
    "fig, ax = plt.subplots(figsize=(4,3))\n",
    "x_min, x_max, y_min, y_max = -3,14,0,8\n",
    "ax.set(xlim=(x_min,x_max), ylim = (y_min,y_max))\n"
   ]
  },
  {
   "cell_type": "code",
   "execution_count": null,
   "id": "2887ef75-602f-4f6b-9a4c-bc0b6776ef8c",
   "metadata": {},
   "outputs": [],
   "source": [
    "# Plot samples by color and add legend\n",
    "scatter = ax.scatter(myVars.iloc[:,0],myVars.iloc[:,1], s = 150, c = myVars.iloc[:,2], label = myVars.iloc[:,2], edgecolors = \"k\")\n",
    "ax.legend(*scatter.legend_elements(), loc=\"upper right\", title = \"Classes\")\n",
    "ax.set_title(\"Samples in two-dimensional feature space\")\n",
    "#_ = plt.show()\n",
    "plt.savefig(\"scatterPlot_sdRate.png\")\n",
    "plt.close()"
   ]
  }
 ],
 "metadata": {
  "kernelspec": {
   "display_name": "Python 3 (ipykernel)",
   "language": "python",
   "name": "python3"
  },
  "language_info": {
   "codemirror_mode": {
    "name": "ipython",
    "version": 3
   },
   "file_extension": ".py",
   "mimetype": "text/x-python",
   "name": "python",
   "nbconvert_exporter": "python",
   "pygments_lexer": "ipython3",
   "version": "3.11.4"
  }
 },
 "nbformat": 4,
 "nbformat_minor": 5
}
